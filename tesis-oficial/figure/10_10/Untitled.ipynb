{
 "cells": [
  {
   "cell_type": "code",
   "execution_count": 10,
   "metadata": {
    "collapsed": false
   },
   "outputs": [
    {
     "name": "stdout",
     "output_type": "stream",
     "text": [
      "(1.5406513470681458, 1.176075341156608)\n"
     ]
    }
   ],
   "source": [
    "from math import sqrt\n",
    "\n",
    "x1=1.556\n",
    "s1=1.184\n",
    "n1=1828\n",
    "x2=1.109\n",
    "s2=0.815\n",
    "n2=65\n",
    "x=(n1*x1 + n2*x2)/(n1+n2)\n",
    "s = sqrt((n1*s1**2 + n2*s2**2 + n1*(x1-x)**2 + n2*(x2-x)**2)/(n1+n2))\n",
    "print(x,s)"
   ]
  },
  {
   "cell_type": "code",
   "execution_count": null,
   "metadata": {
    "collapsed": true
   },
   "outputs": [],
   "source": []
  }
 ],
 "metadata": {
  "kernelspec": {
   "display_name": "Python 2",
   "language": "python",
   "name": "python2"
  },
  "language_info": {
   "codemirror_mode": {
    "name": "ipython",
    "version": 2
   },
   "file_extension": ".py",
   "mimetype": "text/x-python",
   "name": "python",
   "nbconvert_exporter": "python",
   "pygments_lexer": "ipython2",
   "version": "2.7.11"
  }
 },
 "nbformat": 4,
 "nbformat_minor": 0
}
